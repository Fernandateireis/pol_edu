{
  "cells": [
    {
      "cell_type": "markdown",
      "metadata": {
        "id": "SrOlgRM56qjA"
      },
      "source": [
        "# Automatizando com TPOT\n",
        "\n",
        "O TPOT foi criado para ser um assistente que oferece ideias sobre como resolver um problema específico de aprendizado de máquina explorando configurações de pipeline que você pode nunca ter considerado e, em seguida, deixa o ajuste fino para técnicas de ajuste de parâmetro mais restritas, como grid search. Embora tenha capacidades básicas de feature engineering, elas são bastante incipientes ainda. Mais [aqui](http://epistasislab.github.io/tpot/)"
      ]
    },
    {
      "cell_type": "code",
      "execution_count": 4,
      "metadata": {
        "id": "fvHMtih96lwp"
      },
      "outputs": [],
      "source": [
        "#%%capture\n",
        "#!pip install tpot"
      ]
    },
    {
      "cell_type": "code",
      "execution_count": 5,
      "metadata": {
        "id": "Jxhvr4e6uRgz"
      },
      "outputs": [],
      "source": [
        "import pandas as pd\n",
        "from tpot import TPOTRegressor\n",
        "from sklearn.model_selection import train_test_split\n",
        "from sklearn.preprocessing import MinMaxScaler"
      ]
    },
    {
      "cell_type": "code",
      "execution_count": 6,
      "metadata": {
        "colab": {
          "base_uri": "https://localhost:8080/"
        },
        "id": "g7wgr7zluEgH",
        "outputId": "3b6a3e54-6e1c-4fca-ec41-2f679b182e3c"
      },
      "outputs": [],
      "source": [
        "#from google.colab import drive\n",
        "#drive.mount('/content/drive')"
      ]
    },
    {
      "cell_type": "code",
      "execution_count": 7,
      "metadata": {
        "id": "KFtlwaBltf_3"
      },
      "outputs": [],
      "source": [
        "\n",
        "#data = pd.read_csv('drive/MyDrive/merge_iex_censo_banco2015-2021.csv')\n",
        "data = pd.read_csv(\"/home/freitas/Downloads/internet2/data/merge_iex_censo_banco2015-2021.csv\")\n",
        "#data = pd.read_csv('drive/MyDrive/merge_iex_censo_banco.csv')\n",
        "data.drop(columns=['Unnamed: 0'],inplace=True)\n",
        "data.drop_duplicates(inplace=True)\n"
      ]
    },
    {
      "cell_type": "code",
      "execution_count": 8,
      "metadata": {
        "colab": {
          "base_uri": "https://localhost:8080/",
          "height": 488
        },
        "id": "_PAECZIPCXDd",
        "outputId": "1dc9d78b-f6a9-496d-c70e-d6cda0dc2824"
      },
      "outputs": [
        {
          "data": {
            "text/html": [
              "<div>\n",
              "<style scoped>\n",
              "    .dataframe tbody tr th:only-of-type {\n",
              "        vertical-align: middle;\n",
              "    }\n",
              "\n",
              "    .dataframe tbody tr th {\n",
              "        vertical-align: top;\n",
              "    }\n",
              "\n",
              "    .dataframe thead th {\n",
              "        text-align: right;\n",
              "    }\n",
              "</style>\n",
              "<table border=\"1\" class=\"dataframe\">\n",
              "  <thead>\n",
              "    <tr style=\"text-align: right;\">\n",
              "      <th></th>\n",
              "      <th>CNPJ</th>\n",
              "      <th>ANO</th>\n",
              "      <th>IEX</th>\n",
              "      <th>CO_ESCOLA</th>\n",
              "      <th>SG_UF</th>\n",
              "      <th>CO_MUNICIPIO</th>\n",
              "      <th>TP_SITUACAO_FUNCIONAMENTO</th>\n",
              "      <th>TP_DEPENDENCIA</th>\n",
              "      <th>TP_LOCALIZACAO</th>\n",
              "      <th>IN_LOCAL_FUNC_GALPAO</th>\n",
              "      <th>...</th>\n",
              "      <th>IN_SALA_DIRETORIA</th>\n",
              "      <th>IN_SECRETARIA</th>\n",
              "      <th>IN_COMPUTADOR</th>\n",
              "      <th>IN_EQUIP_COPIADORA</th>\n",
              "      <th>IN_EQUIP_IMPRESSORA</th>\n",
              "      <th>IN_INTERNET</th>\n",
              "      <th>IN_REGULAR</th>\n",
              "      <th>IN_EJA</th>\n",
              "      <th>possui_agencia_BB</th>\n",
              "      <th>POP</th>\n",
              "    </tr>\n",
              "  </thead>\n",
              "  <tbody>\n",
              "    <tr>\n",
              "      <th>0</th>\n",
              "      <td>4033254000167</td>\n",
              "      <td>2015</td>\n",
              "      <td>2.957329</td>\n",
              "      <td>12004898</td>\n",
              "      <td>AC</td>\n",
              "      <td>1200302</td>\n",
              "      <td>1</td>\n",
              "      <td>2</td>\n",
              "      <td>2</td>\n",
              "      <td>0</td>\n",
              "      <td>...</td>\n",
              "      <td>0</td>\n",
              "      <td>0</td>\n",
              "      <td>0</td>\n",
              "      <td>0</td>\n",
              "      <td>0</td>\n",
              "      <td>0</td>\n",
              "      <td>1</td>\n",
              "      <td>0</td>\n",
              "      <td>1</td>\n",
              "      <td>32385</td>\n",
              "    </tr>\n",
              "    <tr>\n",
              "      <th>1</th>\n",
              "      <td>4033254000167</td>\n",
              "      <td>2015</td>\n",
              "      <td>2.957329</td>\n",
              "      <td>12022373</td>\n",
              "      <td>AC</td>\n",
              "      <td>1200302</td>\n",
              "      <td>1</td>\n",
              "      <td>2</td>\n",
              "      <td>2</td>\n",
              "      <td>0</td>\n",
              "      <td>...</td>\n",
              "      <td>0</td>\n",
              "      <td>0</td>\n",
              "      <td>0</td>\n",
              "      <td>0</td>\n",
              "      <td>0</td>\n",
              "      <td>0</td>\n",
              "      <td>1</td>\n",
              "      <td>0</td>\n",
              "      <td>1</td>\n",
              "      <td>32385</td>\n",
              "    </tr>\n",
              "    <tr>\n",
              "      <th>2</th>\n",
              "      <td>4033254000167</td>\n",
              "      <td>2015</td>\n",
              "      <td>2.957329</td>\n",
              "      <td>12031356</td>\n",
              "      <td>AC</td>\n",
              "      <td>1200336</td>\n",
              "      <td>1</td>\n",
              "      <td>2</td>\n",
              "      <td>2</td>\n",
              "      <td>1</td>\n",
              "      <td>...</td>\n",
              "      <td>0</td>\n",
              "      <td>0</td>\n",
              "      <td>0</td>\n",
              "      <td>0</td>\n",
              "      <td>0</td>\n",
              "      <td>0</td>\n",
              "      <td>1</td>\n",
              "      <td>0</td>\n",
              "      <td>1</td>\n",
              "      <td>17173</td>\n",
              "    </tr>\n",
              "    <tr>\n",
              "      <th>3</th>\n",
              "      <td>4033254000167</td>\n",
              "      <td>2015</td>\n",
              "      <td>2.957329</td>\n",
              "      <td>12027480</td>\n",
              "      <td>AC</td>\n",
              "      <td>1200500</td>\n",
              "      <td>1</td>\n",
              "      <td>2</td>\n",
              "      <td>2</td>\n",
              "      <td>0</td>\n",
              "      <td>...</td>\n",
              "      <td>0</td>\n",
              "      <td>0</td>\n",
              "      <td>0</td>\n",
              "      <td>0</td>\n",
              "      <td>0</td>\n",
              "      <td>0</td>\n",
              "      <td>1</td>\n",
              "      <td>0</td>\n",
              "      <td>1</td>\n",
              "      <td>41750</td>\n",
              "    </tr>\n",
              "    <tr>\n",
              "      <th>4</th>\n",
              "      <td>4033254000167</td>\n",
              "      <td>2015</td>\n",
              "      <td>2.957329</td>\n",
              "      <td>12028819</td>\n",
              "      <td>AC</td>\n",
              "      <td>1200401</td>\n",
              "      <td>1</td>\n",
              "      <td>2</td>\n",
              "      <td>2</td>\n",
              "      <td>0</td>\n",
              "      <td>...</td>\n",
              "      <td>0</td>\n",
              "      <td>0</td>\n",
              "      <td>0</td>\n",
              "      <td>0</td>\n",
              "      <td>0</td>\n",
              "      <td>0</td>\n",
              "      <td>1</td>\n",
              "      <td>0</td>\n",
              "      <td>1</td>\n",
              "      <td>370550</td>\n",
              "    </tr>\n",
              "    <tr>\n",
              "      <th>...</th>\n",
              "      <td>...</td>\n",
              "      <td>...</td>\n",
              "      <td>...</td>\n",
              "      <td>...</td>\n",
              "      <td>...</td>\n",
              "      <td>...</td>\n",
              "      <td>...</td>\n",
              "      <td>...</td>\n",
              "      <td>...</td>\n",
              "      <td>...</td>\n",
              "      <td>...</td>\n",
              "      <td>...</td>\n",
              "      <td>...</td>\n",
              "      <td>...</td>\n",
              "      <td>...</td>\n",
              "      <td>...</td>\n",
              "      <td>...</td>\n",
              "      <td>...</td>\n",
              "      <td>...</td>\n",
              "      <td>...</td>\n",
              "      <td>...</td>\n",
              "    </tr>\n",
              "    <tr>\n",
              "      <th>854610</th>\n",
              "      <td>18382268000109</td>\n",
              "      <td>2021</td>\n",
              "      <td>9.785132</td>\n",
              "      <td>43004040</td>\n",
              "      <td>RS</td>\n",
              "      <td>4322400</td>\n",
              "      <td>1</td>\n",
              "      <td>3</td>\n",
              "      <td>1</td>\n",
              "      <td>0</td>\n",
              "      <td>...</td>\n",
              "      <td>1</td>\n",
              "      <td>1</td>\n",
              "      <td>1</td>\n",
              "      <td>1</td>\n",
              "      <td>1</td>\n",
              "      <td>1</td>\n",
              "      <td>1</td>\n",
              "      <td>0</td>\n",
              "      <td>1</td>\n",
              "      <td>126866</td>\n",
              "    </tr>\n",
              "    <tr>\n",
              "      <th>854611</th>\n",
              "      <td>18382330000154</td>\n",
              "      <td>2021</td>\n",
              "      <td>9.889496</td>\n",
              "      <td>43004555</td>\n",
              "      <td>RS</td>\n",
              "      <td>4302154</td>\n",
              "      <td>1</td>\n",
              "      <td>3</td>\n",
              "      <td>1</td>\n",
              "      <td>0</td>\n",
              "      <td>...</td>\n",
              "      <td>1</td>\n",
              "      <td>0</td>\n",
              "      <td>1</td>\n",
              "      <td>0</td>\n",
              "      <td>0</td>\n",
              "      <td>1</td>\n",
              "      <td>1</td>\n",
              "      <td>0</td>\n",
              "      <td>0</td>\n",
              "      <td>2092</td>\n",
              "    </tr>\n",
              "    <tr>\n",
              "      <th>854612</th>\n",
              "      <td>17964207000189</td>\n",
              "      <td>2021</td>\n",
              "      <td>9.939361</td>\n",
              "      <td>43201954</td>\n",
              "      <td>RS</td>\n",
              "      <td>4318481</td>\n",
              "      <td>1</td>\n",
              "      <td>3</td>\n",
              "      <td>1</td>\n",
              "      <td>0</td>\n",
              "      <td>...</td>\n",
              "      <td>1</td>\n",
              "      <td>1</td>\n",
              "      <td>1</td>\n",
              "      <td>1</td>\n",
              "      <td>1</td>\n",
              "      <td>1</td>\n",
              "      <td>1</td>\n",
              "      <td>0</td>\n",
              "      <td>0</td>\n",
              "      <td>4865</td>\n",
              "    </tr>\n",
              "    <tr>\n",
              "      <th>854613</th>\n",
              "      <td>21249243000138</td>\n",
              "      <td>2021</td>\n",
              "      <td>10.000000</td>\n",
              "      <td>43314074</td>\n",
              "      <td>RS</td>\n",
              "      <td>4314423</td>\n",
              "      <td>1</td>\n",
              "      <td>3</td>\n",
              "      <td>2</td>\n",
              "      <td>0</td>\n",
              "      <td>...</td>\n",
              "      <td>1</td>\n",
              "      <td>1</td>\n",
              "      <td>1</td>\n",
              "      <td>0</td>\n",
              "      <td>0</td>\n",
              "      <td>1</td>\n",
              "      <td>1</td>\n",
              "      <td>0</td>\n",
              "      <td>0</td>\n",
              "      <td>5738</td>\n",
              "    </tr>\n",
              "    <tr>\n",
              "      <th>854614</th>\n",
              "      <td>20901206000108</td>\n",
              "      <td>2021</td>\n",
              "      <td>8.985692</td>\n",
              "      <td>43007260</td>\n",
              "      <td>RS</td>\n",
              "      <td>4303400</td>\n",
              "      <td>1</td>\n",
              "      <td>3</td>\n",
              "      <td>1</td>\n",
              "      <td>0</td>\n",
              "      <td>...</td>\n",
              "      <td>1</td>\n",
              "      <td>1</td>\n",
              "      <td>1</td>\n",
              "      <td>1</td>\n",
              "      <td>1</td>\n",
              "      <td>1</td>\n",
              "      <td>1</td>\n",
              "      <td>0</td>\n",
              "      <td>0</td>\n",
              "      <td>4700</td>\n",
              "    </tr>\n",
              "  </tbody>\n",
              "</table>\n",
              "<p>854615 rows × 31 columns</p>\n",
              "</div>"
            ],
            "text/plain": [
              "                  CNPJ   ANO        IEX  CO_ESCOLA SG_UF  CO_MUNICIPIO  \\\n",
              "0        4033254000167  2015   2.957329   12004898    AC       1200302   \n",
              "1        4033254000167  2015   2.957329   12022373    AC       1200302   \n",
              "2        4033254000167  2015   2.957329   12031356    AC       1200336   \n",
              "3        4033254000167  2015   2.957329   12027480    AC       1200500   \n",
              "4        4033254000167  2015   2.957329   12028819    AC       1200401   \n",
              "...                ...   ...        ...        ...   ...           ...   \n",
              "854610  18382268000109  2021   9.785132   43004040    RS       4322400   \n",
              "854611  18382330000154  2021   9.889496   43004555    RS       4302154   \n",
              "854612  17964207000189  2021   9.939361   43201954    RS       4318481   \n",
              "854613  21249243000138  2021  10.000000   43314074    RS       4314423   \n",
              "854614  20901206000108  2021   8.985692   43007260    RS       4303400   \n",
              "\n",
              "        TP_SITUACAO_FUNCIONAMENTO  TP_DEPENDENCIA  TP_LOCALIZACAO  \\\n",
              "0                               1               2               2   \n",
              "1                               1               2               2   \n",
              "2                               1               2               2   \n",
              "3                               1               2               2   \n",
              "4                               1               2               2   \n",
              "...                           ...             ...             ...   \n",
              "854610                          1               3               1   \n",
              "854611                          1               3               1   \n",
              "854612                          1               3               1   \n",
              "854613                          1               3               2   \n",
              "854614                          1               3               1   \n",
              "\n",
              "        IN_LOCAL_FUNC_GALPAO  ...  IN_SALA_DIRETORIA  IN_SECRETARIA  \\\n",
              "0                          0  ...                  0              0   \n",
              "1                          0  ...                  0              0   \n",
              "2                          1  ...                  0              0   \n",
              "3                          0  ...                  0              0   \n",
              "4                          0  ...                  0              0   \n",
              "...                      ...  ...                ...            ...   \n",
              "854610                     0  ...                  1              1   \n",
              "854611                     0  ...                  1              0   \n",
              "854612                     0  ...                  1              1   \n",
              "854613                     0  ...                  1              1   \n",
              "854614                     0  ...                  1              1   \n",
              "\n",
              "        IN_COMPUTADOR  IN_EQUIP_COPIADORA  IN_EQUIP_IMPRESSORA  IN_INTERNET  \\\n",
              "0                   0                   0                    0            0   \n",
              "1                   0                   0                    0            0   \n",
              "2                   0                   0                    0            0   \n",
              "3                   0                   0                    0            0   \n",
              "4                   0                   0                    0            0   \n",
              "...               ...                 ...                  ...          ...   \n",
              "854610              1                   1                    1            1   \n",
              "854611              1                   0                    0            1   \n",
              "854612              1                   1                    1            1   \n",
              "854613              1                   0                    0            1   \n",
              "854614              1                   1                    1            1   \n",
              "\n",
              "        IN_REGULAR  IN_EJA  possui_agencia_BB     POP  \n",
              "0                1       0                  1   32385  \n",
              "1                1       0                  1   32385  \n",
              "2                1       0                  1   17173  \n",
              "3                1       0                  1   41750  \n",
              "4                1       0                  1  370550  \n",
              "...            ...     ...                ...     ...  \n",
              "854610           1       0                  1  126866  \n",
              "854611           1       0                  0    2092  \n",
              "854612           1       0                  0    4865  \n",
              "854613           1       0                  0    5738  \n",
              "854614           1       0                  0    4700  \n",
              "\n",
              "[854615 rows x 31 columns]"
            ]
          },
          "execution_count": 8,
          "metadata": {},
          "output_type": "execute_result"
        }
      ],
      "source": [
        "data"
      ]
    },
    {
      "cell_type": "code",
      "execution_count": 9,
      "metadata": {
        "id": "GNEMGk4lw4Yu"
      },
      "outputs": [],
      "source": [
        "data = data.drop(columns=['CNPJ','CO_ESCOLA','CO_MUNICIPIO','TP_SITUACAO_FUNCIONAMENTO','TP_DEPENDENCIA','TP_LOCALIZACAO'])"
      ]
    },
    {
      "cell_type": "code",
      "execution_count": 10,
      "metadata": {
        "colab": {
          "base_uri": "https://localhost:8080/"
        },
        "id": "2FWrc6HxDPsX",
        "outputId": "9fc57b0a-8c3d-41a4-a8ff-9dccc9e2c4c1"
      },
      "outputs": [
        {
          "name": "stderr",
          "output_type": "stream",
          "text": [
            "/tmp/ipykernel_39135/2792222690.py:5: SettingWithCopyWarning: \n",
            "A value is trying to be set on a copy of a slice from a DataFrame\n",
            "\n",
            "See the caveats in the documentation: https://pandas.pydata.org/pandas-docs/stable/user_guide/indexing.html#returning-a-view-versus-a-copy\n",
            "  data_train.drop(columns=['ANO'],inplace=True)\n",
            "/tmp/ipykernel_39135/2792222690.py:6: SettingWithCopyWarning: \n",
            "A value is trying to be set on a copy of a slice from a DataFrame\n",
            "\n",
            "See the caveats in the documentation: https://pandas.pydata.org/pandas-docs/stable/user_guide/indexing.html#returning-a-view-versus-a-copy\n",
            "  data_test.drop(columns=['ANO'],inplace=True)\n"
          ]
        }
      ],
      "source": [
        "data['SG_UF'] = data['SG_UF'].astype('category')\n",
        "#data['CO_MUNICIPIO'] = data['CO_MUNICIPIO'].astype('category')\n",
        "data_train = data.query('ANO < 2021')\n",
        "data_test = data.query('ANO == 2021')\n",
        "data_train.drop(columns=['ANO'],inplace=True)\n",
        "data_test.drop(columns=['ANO'],inplace=True)\n"
      ]
    },
    {
      "cell_type": "code",
      "execution_count": 11,
      "metadata": {
        "id": "EB-Q5kDjD4ni"
      },
      "outputs": [],
      "source": [
        "X_train = data_train.drop(columns=['IEX'])\n",
        "y_train = data_train['IEX']\n",
        "X_test = data_test.drop(columns=['IEX'])\n",
        "y_test = data_test['IEX']\n",
        "\n"
      ]
    },
    {
      "cell_type": "markdown",
      "metadata": {
        "id": "FUCQClwpFHet"
      },
      "source": [
        "## Pre-processing"
      ]
    },
    {
      "cell_type": "code",
      "execution_count": 12,
      "metadata": {
        "colab": {
          "base_uri": "https://localhost:8080/"
        },
        "id": "57Ol-pA3PO4a",
        "outputId": "d471ce5b-65c2-46d8-896b-e4e1050553e1"
      },
      "outputs": [
        {
          "name": "stdout",
          "output_type": "stream",
          "text": [
            "Collecting feature_engine\n",
            "  Downloading feature_engine-1.5.2-py2.py3-none-any.whl (290 kB)\n",
            "\u001b[2K     \u001b[38;2;114;156;31m━━━━━━━━━━━━━━━━━━━━━━━━━━━━━━━━━━━━━\u001b[0m \u001b[32m290.0/290.0 kB\u001b[0m \u001b[31m229.2 kB/s\u001b[0m eta \u001b[36m0:00:00\u001b[0mm eta \u001b[36m0:00:01\u001b[0m0:01\u001b[0m\n",
            "\u001b[?25hRequirement already satisfied: scikit-learn>=1.0.0 in /home/freitas/.pyenv/versions/3.8.12/envs/pol_edu/lib/python3.8/site-packages (from feature_engine) (1.1.3)\n",
            "Requirement already satisfied: scipy>=1.4.1 in /home/freitas/.pyenv/versions/3.8.12/envs/pol_edu/lib/python3.8/site-packages (from feature_engine) (1.9.3)\n",
            "Requirement already satisfied: pandas>=1.0.3 in /home/freitas/.pyenv/versions/3.8.12/envs/pol_edu/lib/python3.8/site-packages (from feature_engine) (1.5.1)\n",
            "Requirement already satisfied: numpy>=1.18.2 in /home/freitas/.pyenv/versions/3.8.12/envs/pol_edu/lib/python3.8/site-packages (from feature_engine) (1.23.4)\n",
            "Collecting statsmodels>=0.11.1\n",
            "  Downloading statsmodels-0.13.5-cp38-cp38-manylinux_2_17_x86_64.manylinux2014_x86_64.whl (9.9 MB)\n",
            "\u001b[2K     \u001b[38;2;114;156;31m━━━━━━━━━━━━━━━━━━━━━━━━━━━━━━━━━━━━━━━━\u001b[0m \u001b[32m9.9/9.9 MB\u001b[0m \u001b[31m4.3 MB/s\u001b[0m eta \u001b[36m0:00:00\u001b[0mm eta \u001b[36m0:00:01\u001b[0m0:01\u001b[0m:01\u001b[0m\n",
            "\u001b[?25hRequirement already satisfied: python-dateutil>=2.8.1 in /home/freitas/.pyenv/versions/3.8.12/envs/pol_edu/lib/python3.8/site-packages (from pandas>=1.0.3->feature_engine) (2.8.2)\n",
            "Requirement already satisfied: pytz>=2020.1 in /home/freitas/.pyenv/versions/3.8.12/envs/pol_edu/lib/python3.8/site-packages (from pandas>=1.0.3->feature_engine) (2022.6)\n",
            "Requirement already satisfied: threadpoolctl>=2.0.0 in /home/freitas/.pyenv/versions/3.8.12/envs/pol_edu/lib/python3.8/site-packages (from scikit-learn>=1.0.0->feature_engine) (3.1.0)\n",
            "Requirement already satisfied: joblib>=1.0.0 in /home/freitas/.pyenv/versions/3.8.12/envs/pol_edu/lib/python3.8/site-packages (from scikit-learn>=1.0.0->feature_engine) (1.2.0)\n",
            "Requirement already satisfied: packaging>=21.3 in /home/freitas/.pyenv/versions/3.8.12/envs/pol_edu/lib/python3.8/site-packages (from statsmodels>=0.11.1->feature_engine) (21.3)\n",
            "Collecting patsy>=0.5.2\n",
            "  Downloading patsy-0.5.3-py2.py3-none-any.whl (233 kB)\n",
            "\u001b[2K     \u001b[38;2;114;156;31m━━━━━━━━━━━━━━━━━━━━━━━━━━━━━━━━━━━━━━━\u001b[0m \u001b[32m233.8/233.8 kB\u001b[0m \u001b[31m2.3 MB/s\u001b[0m eta \u001b[36m0:00:00\u001b[0m[31m5.5 MB/s\u001b[0m eta \u001b[36m0:00:01\u001b[0m\n",
            "\u001b[?25hRequirement already satisfied: pyparsing!=3.0.5,>=2.0.2 in /home/freitas/.pyenv/versions/3.8.12/envs/pol_edu/lib/python3.8/site-packages (from packaging>=21.3->statsmodels>=0.11.1->feature_engine) (3.0.9)\n",
            "Requirement already satisfied: six in /home/freitas/.pyenv/versions/3.8.12/envs/pol_edu/lib/python3.8/site-packages (from patsy>=0.5.2->statsmodels>=0.11.1->feature_engine) (1.16.0)\n",
            "Installing collected packages: patsy, statsmodels, feature_engine\n",
            "Successfully installed feature_engine-1.5.2 patsy-0.5.3 statsmodels-0.13.5\n"
          ]
        }
      ],
      "source": [
        "!pip install feature_engine"
      ]
    },
    {
      "cell_type": "code",
      "execution_count": 13,
      "metadata": {
        "id": "1tK6cpvKOVje"
      },
      "outputs": [],
      "source": [
        "# for one hot encoding with feature-engine\n",
        "from feature_engine.encoding import OneHotEncoder\n",
        "\n",
        "# let's create the encoder\n",
        "\n",
        "ohe_enc = OneHotEncoder(\n",
        "    top_categories=None,\n",
        "    drop_last=False)  # to return k-1, false to return k"
      ]
    },
    {
      "cell_type": "code",
      "execution_count": null,
      "metadata": {
        "colab": {
          "base_uri": "https://localhost:8080/"
        },
        "id": "E8Wc0qS6OVje",
        "outputId": "42cc1fba-6345-4d99-94af-5579ef53eaaf"
      },
      "outputs": [
        {
          "data": {
            "text/plain": [
              "OneHotEncoder()"
            ]
          },
          "execution_count": 11,
          "metadata": {},
          "output_type": "execute_result"
        }
      ],
      "source": [
        "# fit the encoder to the train set: it will learn the variables and \n",
        "# categories to encode\n",
        "\n",
        "ohe_enc.fit(X_train)"
      ]
    },
    {
      "cell_type": "code",
      "execution_count": null,
      "metadata": {
        "id": "4INyagRdOVje"
      },
      "outputs": [],
      "source": [
        "# we can see which variables the encoder will encode\n",
        "\n",
        "ohe_enc.variables"
      ]
    },
    {
      "cell_type": "code",
      "execution_count": null,
      "metadata": {
        "colab": {
          "base_uri": "https://localhost:8080/"
        },
        "id": "8GShnR4iOVjf",
        "outputId": "c40c488c-e905-4cd8-bf5a-e4a707988869"
      },
      "outputs": [
        {
          "name": "stderr",
          "output_type": "stream",
          "text": [
            "/usr/local/lib/python3.7/dist-packages/feature_engine/encoding/one_hot.py:253: PerformanceWarning: DataFrame is highly fragmented.  This is usually the result of calling `frame.insert` many times, which has poor performance.  Consider joining all columns at once using pd.concat(axis=1) instead.  To get a de-fragmented frame, use `newframe = frame.copy()`\n",
            "  X[feature] == category, 1, 0\n"
          ]
        }
      ],
      "source": [
        "# let's transform train and test set\n",
        "\n",
        "X_train = ohe_enc.transform(X_train)\n",
        "X_test = ohe_enc.transform(X_test)"
      ]
    },
    {
      "cell_type": "code",
      "execution_count": null,
      "metadata": {
        "id": "WdyFvzctOVjf"
      },
      "outputs": [],
      "source": [
        "# let's inspect the encoded train set\n",
        "\n",
        "X_train"
      ]
    },
    {
      "cell_type": "code",
      "execution_count": null,
      "metadata": {
        "id": "zE-_ZbWY1Niy"
      },
      "outputs": [],
      "source": [
        "X_train.shape"
      ]
    },
    {
      "cell_type": "code",
      "execution_count": null,
      "metadata": {
        "id": "mRVZ6abWTI59"
      },
      "outputs": [],
      "source": [
        "# set up the scaler\n",
        "scaler = MinMaxScaler()\n",
        "\n",
        "# fit the scaler to the train set, it will learn the parameters\n",
        "scaler.fit(X_train[['POP']])\n",
        "\n",
        "# transform train and test sets\n",
        "X_train['POP'] = scaler.transform(X_train[['POP']])\n",
        "X_test['POP'] = scaler.transform(X_test[['POP']])"
      ]
    },
    {
      "attachments": {},
      "cell_type": "markdown",
      "metadata": {},
      "source": [
        "# CatBoost"
      ]
    },
    {
      "cell_type": "code",
      "execution_count": null,
      "metadata": {},
      "outputs": [],
      "source": []
    },
    {
      "cell_type": "markdown",
      "metadata": {
        "id": "1kLn-FhPE6oo"
      },
      "source": [
        "# Model"
      ]
    },
    {
      "cell_type": "code",
      "execution_count": null,
      "metadata": {
        "id": "2hYa6bVly3At"
      },
      "outputs": [],
      "source": [
        "import numpy as np\n",
        "import pandas as pd\n",
        "from sklearn.ensemble import RandomForestRegressor\n",
        "from sklearn.linear_model import SGDRegressor\n",
        "from sklearn.model_selection import train_test_split\n",
        "from sklearn.pipeline import make_pipeline, make_union\n",
        "from tpot.builtins import StackingEstimator\n",
        "from tpot.export_utils import set_param_recursive\n",
        "\n",
        "# Average CV score on the training set was: -13.355637624157364\n",
        "exported_pipeline = make_pipeline(\n",
        "    StackingEstimator(estimator=SGDRegressor(alpha=0.01, eta0=1.0, fit_intercept=False, l1_ratio=0.0, learning_rate=\"invscaling\", loss=\"squared_error\", penalty=\"elasticnet\", power_t=0.1)),\n",
        "    RandomForestRegressor(bootstrap=True, max_features=0.4, min_samples_leaf=9, min_samples_split=9, n_estimators=100)\n",
        ")\n",
        "# Fix random state for all the steps in exported pipeline\n",
        "set_param_recursive(exported_pipeline.steps, 'random_state', 42)\n",
        "\n",
        "exported_pipeline.fit(X_train,y_train)\n",
        "results = exported_pipeline.predict(X_test)"
      ]
    },
    {
      "cell_type": "code",
      "execution_count": null,
      "metadata": {
        "id": "RT2WyVEwh8vP"
      },
      "outputs": [],
      "source": [
        "from sklearn.model_selection import cross_validate\n",
        "result = cross_validate(exported_pipeline, X_test, y_test, \n",
        "                         cv=5, scoring=['neg_mean_squared_error','neg_mean_absolute_percentage_error','neg_mean_absolute_error'])\n",
        "print(result['test_neg_mean_squared_error'].mean())\n",
        "print(result['test_neg_mean_absolute_error'].mean())\n"
      ]
    },
    {
      "cell_type": "code",
      "execution_count": null,
      "metadata": {
        "id": "d3pt_YKWKwSW"
      },
      "outputs": [],
      "source": [
        "y_mean = np.mean(y_train)\n",
        "print(f'The mean prediction is {y_mean:.3f}')\n",
        "\n",
        "absolute_error_test_baseline = [np.abs(y_true - y_mean) for y_true in y_test]\n",
        "mean_absolute_error_test_baseline = np.mean(absolute_error_test_baseline)\n",
        "\n",
        "print(f'The benchmark mean absolute error is of {mean_absolute_error_test_baseline:.3f}')"
      ]
    },
    {
      "cell_type": "code",
      "execution_count": null,
      "metadata": {
        "id": "nzUCIaAfGPsd"
      },
      "outputs": [],
      "source": [
        "y_pred = exported_pipeline.predict(X_test)\n"
      ]
    },
    {
      "cell_type": "code",
      "execution_count": null,
      "metadata": {
        "id": "ZrhBOEbQLt_l"
      },
      "outputs": [],
      "source": [
        "absolute_error_test_model = np.abs(y_test - y_pred)\n",
        "mean_absolute_error_test_model = np.mean(absolute_error_test_model)\n",
        "\n",
        "print(f'Model mean absolute error is of {mean_absolute_error_test_model:.3f}')"
      ]
    },
    {
      "cell_type": "code",
      "execution_count": null,
      "metadata": {
        "id": "344rsd_eGgfe"
      },
      "outputs": [],
      "source": [
        "absolute_error_test_model\n"
      ]
    },
    {
      "cell_type": "code",
      "execution_count": null,
      "metadata": {
        "id": "6-Y_R4XAGq0R"
      },
      "outputs": [],
      "source": [
        "from sklearn.metrics import r2_score\n",
        "score = r2_score(y_test,y_pred)\n",
        "score"
      ]
    },
    {
      "cell_type": "code",
      "execution_count": null,
      "metadata": {
        "id": "eLSHAz-RHcHt"
      },
      "outputs": [],
      "source": [
        "exported_pipeline.score(X_test,y_test)"
      ]
    },
    {
      "cell_type": "code",
      "execution_count": null,
      "metadata": {
        "id": "dHe_R-dRSKIc"
      },
      "outputs": [],
      "source": [
        "data_test['IEX_pred'] = y_pred\n",
        "data_test"
      ]
    },
    {
      "cell_type": "code",
      "execution_count": null,
      "metadata": {
        "id": "kVR_COkUnlQf"
      },
      "outputs": [],
      "source": [
        "aoeuaou"
      ]
    },
    {
      "cell_type": "code",
      "execution_count": null,
      "metadata": {
        "id": "O2wzL8VpRqJ0"
      },
      "outputs": [],
      "source": [
        "#X_test['y_pred'] = y_pred\n",
        "#data_final = X_test"
      ]
    },
    {
      "cell_type": "code",
      "execution_count": null,
      "metadata": {
        "id": "1jiRA8bFH5cM"
      },
      "outputs": [],
      "source": [
        "# y_mean = np.\n",
        "# baseline_score = r2_score(y_test,)\n",
        "# baseline_score"
      ]
    },
    {
      "cell_type": "code",
      "execution_count": null,
      "metadata": {
        "id": "ym4efa7ai5Ex"
      },
      "outputs": [],
      "source": [
        "import sklearn\n",
        "sorted(sklearn.metrics.SCORERS.keys()) "
      ]
    },
    {
      "cell_type": "code",
      "execution_count": null,
      "metadata": {
        "id": "7IzPibAMku_Q"
      },
      "outputs": [],
      "source": [
        "data = pd.read_csv('drive/MyDrive/merge_iex_censo_banco.csv')\n",
        "data = data.drop(columns=['Unnamed: 0','CNPJ','CO_ESCOLA','CO_MUNICIPIO','ANO'])\n"
      ]
    },
    {
      "cell_type": "code",
      "execution_count": null,
      "metadata": {
        "id": "l3W66GYik6tZ"
      },
      "outputs": [],
      "source": [
        "\n",
        "bin_labels_IEX = ['pessimo', 'ruim', 'bom', 'muito_bom']\n",
        "df['IEX'] = data.qcut(df['IEX'], q=4,\n",
        "                       labels = bin_labels_IEX)\n"
      ]
    },
    {
      "cell_type": "code",
      "execution_count": null,
      "metadata": {
        "id": "z5sTUu1jlC1j"
      },
      "outputs": [],
      "source": [
        "from sklearn.model_selection import cross_validate\n",
        "result = cross_validate(exported_pipeline, features, tpot_data['IEX'], \n",
        "                         cv=5, scoring=['neg_mean_squared_error','neg_mean_absolute_percentage_error','neg_mean_absolute_error'])\n",
        "print(result['test_neg_mean_squared_error'].mean())\n",
        "print(result['test_neg_mean_absolute_error'].mean())\n"
      ]
    },
    {
      "cell_type": "code",
      "execution_count": null,
      "metadata": {
        "id": "HxP0GLiK8Ysh"
      },
      "outputs": [],
      "source": [
        "%%capture\n",
        "!pip install shap"
      ]
    },
    {
      "cell_type": "code",
      "execution_count": null,
      "metadata": {
        "id": "UmJ_7beF80mh"
      },
      "outputs": [],
      "source": [
        "import shap"
      ]
    },
    {
      "cell_type": "code",
      "execution_count": null,
      "metadata": {
        "id": "j6quOOTw8mb3"
      },
      "outputs": [],
      "source": [
        "%%capture\n",
        "# criando um explainer\n",
        "explainer = shap.KernelExplainer(tpot.predict,X_test)\n",
        "\n",
        "# Definindo os shap values pelo explainer\n",
        "shap_values = explainer.shap_values(X_test)\n",
        "# Definindo um objeto explainer para uso com alguns gráficos\n",
        "# shap_exp = explainer(X_test)\n",
        "# Valor esperado / base / de referência = o valor que seria previsto se não soubéssemos quaisquer características da saída atual ”\n",
        "print('Valor base:', explainer.expected_value)\n",
        "\n",
        "pd.DataFrame(shap_values).head()"
      ]
    },
    {
      "cell_type": "code",
      "execution_count": null,
      "metadata": {
        "id": "nP8x5EDk8x_J"
      },
      "outputs": [],
      "source": [
        "shap.initjs()\n",
        "shap.force_plot(explainer.expected_value, \n",
        "                shap_values[0,:], X_test.iloc[0,:])"
      ]
    },
    {
      "cell_type": "code",
      "execution_count": null,
      "metadata": {
        "id": "KUcaaQZB-ZrZ"
      },
      "outputs": [],
      "source": [
        "shap.initjs()\n",
        "shap.summary_plot(shap_values, \n",
        "                  X_test, plot_type=\"bar\")"
      ]
    },
    {
      "cell_type": "code",
      "execution_count": null,
      "metadata": {
        "id": "E7H18a_r-lMB"
      },
      "outputs": [],
      "source": [
        "shap.initjs()\n",
        "shap.summary_plot(shap_values, X_test)"
      ]
    },
    {
      "cell_type": "code",
      "execution_count": null,
      "metadata": {
        "id": "b9SKnc2W-q-R"
      },
      "outputs": [],
      "source": [
        "shap.initjs()\n",
        "shap.dependence_plot(ind='pclass', interaction_index='age',\n",
        "                     shap_values=shap_values, \n",
        "                     features=X_test)"
      ]
    },
    {
      "cell_type": "markdown",
      "metadata": {
        "id": "xXbUasBXp6iA"
      },
      "source": [
        "## Usando outra abordagem: catboost"
      ]
    },
    {
      "cell_type": "code",
      "execution_count": null,
      "metadata": {
        "id": "1yEgc3SXqpRE"
      },
      "outputs": [],
      "source": [
        "!pip install catboost"
      ]
    },
    {
      "cell_type": "code",
      "execution_count": null,
      "metadata": {
        "id": "I3FFcqCsp5ul"
      },
      "outputs": [],
      "source": [
        "import numpy as np\n",
        "%matplotlib inline\n",
        "import matplotlib\n",
        "import matplotlib.pyplot as plt\n",
        "import pandas as pd\n",
        "import numpy as np\n",
        "import seaborn as sns\n",
        "from sklearn.model_selection import train_test_split\n",
        "\n",
        "import catboost\n",
        "print('catboost version:', catboost.__version__)\n",
        "from catboost import CatBoostClassifier \n",
        "titanic_df = titanic"
      ]
    },
    {
      "cell_type": "code",
      "execution_count": null,
      "metadata": {
        "id": "mV6E4lf6qAYL"
      },
      "outputs": [],
      "source": [
        "# map categorical features\n",
        "titanic_catboost_ready_df = titanic_df.dropna() \n",
        "\n",
        "features = [feat for feat in list(titanic_catboost_ready_df) \n",
        "            if feat != 'survived']\n",
        "print(features)\n",
        "categorical_features = np.where(titanic_catboost_ready_df[features].dtypes != np.float)[0]\n",
        " \n",
        "\n",
        "X_train, X_test, y_train, y_test = train_test_split(titanic_df[features], \n",
        "                                                    titanic_df[['survived']], \n",
        "                                                    test_size=0.3, \n",
        "                                                     random_state=1)\n",
        " \n",
        "params = {'iterations':5000,\n",
        "        'learning_rate':0.01,\n",
        "        'cat_features':categorical_features,\n",
        "        'depth':3,\n",
        "        'eval_metric':'AUC',\n",
        "        'verbose':200,\n",
        "        'od_type':\"Iter\", \n",
        "        'od_wait':500, \n",
        "        'random_seed': 1\n",
        "          }\n",
        "\n",
        "cat_model = CatBoostClassifier(**params)\n",
        "cat_model.fit(X_train, y_train,   \n",
        "          eval_set=(X_test, y_test), \n",
        "          use_best_model=True, \n",
        "          plot=True  \n",
        "         );\n",
        " "
      ]
    },
    {
      "cell_type": "code",
      "execution_count": null,
      "metadata": {
        "id": "ovfrWSTsqZ0D"
      },
      "outputs": [],
      "source": [
        "import shap \n",
        "from catboost import CatBoostClassifier, Pool\n",
        "shap_values = cat_model.get_feature_importance(Pool(X_test, label=y_test,cat_features=categorical_features) ,\n",
        "                                               type=\"ShapValues\")\n",
        " \n",
        "expected_value = shap_values[0,-1]\n",
        "shap_values = shap_values[:,:-1]\n",
        "\n",
        "shap.initjs()\n",
        "shap.force_plot(expected_value, shap_values[0,:], X_test.iloc[0,:])"
      ]
    },
    {
      "cell_type": "code",
      "execution_count": null,
      "metadata": {
        "id": "DG9tYn0OtcNZ"
      },
      "outputs": [],
      "source": [
        "shap.initjs()\n",
        "shap.force_plot(expected_value, shap_values[1,:], X_test.iloc[1,:])"
      ]
    }
  ],
  "metadata": {
    "colab": {
      "provenance": []
    },
    "gpuClass": "standard",
    "kernelspec": {
      "display_name": "Python 3.8.12 64-bit ('shims')",
      "language": "python",
      "name": "python3"
    },
    "language_info": {
      "codemirror_mode": {
        "name": "ipython",
        "version": 3
      },
      "file_extension": ".py",
      "mimetype": "text/x-python",
      "name": "python",
      "nbconvert_exporter": "python",
      "pygments_lexer": "ipython3",
      "version": "3.8.12"
    },
    "toc": {
      "base_numbering": 1,
      "nav_menu": {},
      "number_sections": true,
      "sideBar": true,
      "skip_h1_title": false,
      "title_cell": "Table of Contents",
      "title_sidebar": "Contents",
      "toc_cell": false,
      "toc_position": {},
      "toc_section_display": true,
      "toc_window_display": false
    },
    "vscode": {
      "interpreter": {
        "hash": "b0d6d9f2a0635488eb4878d0b8fe1bfff458b62025006913981db8fef152f062"
      }
    }
  },
  "nbformat": 4,
  "nbformat_minor": 0
}
