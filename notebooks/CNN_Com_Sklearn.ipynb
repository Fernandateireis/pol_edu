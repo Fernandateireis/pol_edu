{
  "cells": [
    {
      "cell_type": "code",
      "execution_count": 1,
      "metadata": {
        "id": "fwA0CWeQRWFY"
      },
      "outputs": [],
      "source": [
        "%load_ext autoreload\n",
        "%autoreload 2\n",
        "\n",
        "# DATA MANIPULATION\n",
        "import pandas as pd\n",
        "import numpy as np\n",
        "pd.set_option('display.max_columns', None)\n",
        "import numpy as np\n",
        "\n",
        "# DATA VISUALISATION\n",
        "import matplotlib.pyplot as plt\n",
        "import seaborn as sns\n",
        "\n",
        "# VIEWING OPTIONS IN THE NOTEBOOK\n",
        "from sklearn import set_config; set_config(display='diagram')\n",
        "from sklearn.preprocessing import LabelEncoder\n",
        "\n",
        "\n",
        "from sklearn.preprocessing import StandardScaler,OneHotEncoder\n",
        "from sklearn.model_selection import train_test_split\n",
        "from sklearn.compose import make_column_transformer\n",
        "from sklearn.pipeline import make_pipeline, make_union\n",
        "from sklearn.impute import KNNImputer\n",
        "import pandas as pd\n"
      ]
    },
    {
      "cell_type": "code",
      "execution_count": null,
      "metadata": {
        "id": "g7wgr7zluEgH"
      },
      "outputs": [],
      "source": [
        "from google.colab import drive\n",
        "drive.mount('/content/drive')"
      ]
    },
    {
      "cell_type": "code",
      "execution_count": null,
      "metadata": {
        "id": "KFtlwaBltf_3"
      },
      "outputs": [],
      "source": [
        "df = pd.read_csv('drive/MyDrive/merge_iex_censo_banco.csv')\n",
        "#df = pd.read_csv('drive/MyDrive/merge_iex_censo_banco2015-2021.csv')\n"
      ]
    },
    {
      "cell_type": "code",
      "execution_count": null,
      "metadata": {
        "id": "L3qAat6qj8bd"
      },
      "outputs": [],
      "source": [
        "df.isna().sum()"
      ]
    },
    {
      "cell_type": "code",
      "execution_count": null,
      "metadata": {
        "id": "uJC7SBUpksiY"
      },
      "outputs": [],
      "source": [
        "df = df.drop(columns=['CO_ESCOLA', 'CO_MUNICIPIO', 'CNPJ', 'Unnamed: 0'])\n",
        "df.tail()"
      ]
    },
    {
      "cell_type": "code",
      "execution_count": null,
      "metadata": {
        "id": "-EKbqzVrwrRe"
      },
      "outputs": [],
      "source": [
        "###Usar uma amostra do DF\n",
        "#df = df.sample(200000)\n",
        "df_2021=df[df['ANO']==2016]\n",
        "df=df[df['ANO']==2015]\n",
        "\n",
        "#select data for 2015 and 2016\n",
        "df.drop_duplicates(inplace=True)\n"
      ]
    },
    {
      "cell_type": "code",
      "execution_count": null,
      "metadata": {
        "id": "8W3mBaPG37fo"
      },
      "outputs": [],
      "source": [
        "df['IEX']"
      ]
    },
    {
      "cell_type": "code",
      "execution_count": null,
      "metadata": {
        "id": "BtzPSiDHBEk1"
      },
      "outputs": [],
      "source": [
        "# preprocessing\n",
        "num_transformer = StandardScaler()\n",
        "cat_transformer = OneHotEncoder(handle_unknown='ignore')\n",
        "\n",
        "df['SG_UF'] = df['SG_UF'].astype('category')\n",
        "\n",
        "preprocessor = make_column_transformer(\n",
        "    (num_transformer, ['POP']),\n",
        "    (cat_transformer,['SG_UF']),\n",
        "    remainder='passthrough'\n",
        ")\n",
        "\n",
        "preprocessor"
      ]
    },
    {
      "cell_type": "code",
      "execution_count": null,
      "metadata": {
        "id": "1LOLYiakxZxq"
      },
      "outputs": [],
      "source": [
        "df"
      ]
    },
    {
      "cell_type": "code",
      "execution_count": null,
      "metadata": {
        "id": "qzNsh92mQN47"
      },
      "outputs": [],
      "source": [
        "df_2021 = df_2021.sample(199014)\n",
        "print(df.shape,df_2021.shape)"
      ]
    },
    {
      "cell_type": "code",
      "execution_count": null,
      "metadata": {
        "id": "wLz3cmuQ2hBc"
      },
      "outputs": [],
      "source": [
        "from pandas.core.nanops import na_accum_func\n",
        "from sklearn.model_selection import train_test_split\n",
        "y = df['IEX']\n",
        "X = df.drop(columns=['IEX'])\n",
        "X_train,X_test,y_train,y_test = train_test_split(X,y,test_size = 0.2,random_state = 42)\n",
        "#X_tran_2021,X_test_2021,y_train_2021,y_test_2021 = train_test_split(df_2021.drop(columns=['IEX']),df_2021['IEX'],test_size = 0.2, random_state = 42)"
      ]
    },
    {
      "cell_type": "code",
      "execution_count": null,
      "metadata": {
        "id": "tfPs3vvRyM7p"
      },
      "outputs": [],
      "source": [
        "y_train"
      ]
    },
    {
      "cell_type": "code",
      "execution_count": null,
      "metadata": {
        "id": "T3cXZtihjqNT"
      },
      "outputs": [],
      "source": [
        "X_train"
      ]
    },
    {
      "cell_type": "code",
      "execution_count": null,
      "metadata": {
        "id": "8aIr0I1H4ZEa"
      },
      "outputs": [],
      "source": [
        "# não usary_train = to_categorical(y_train)"
      ]
    },
    {
      "cell_type": "code",
      "execution_count": null,
      "metadata": {
        "id": "BCWwoqxbx4yN"
      },
      "outputs": [],
      "source": [
        "# train_t\n"
      ]
    },
    {
      "cell_type": "code",
      "execution_count": null,
      "metadata": {
        "id": "URAT9lOo1NZp"
      },
      "outputs": [],
      "source": [
        "X_train.shape"
      ]
    },
    {
      "cell_type": "code",
      "execution_count": null,
      "metadata": {
        "id": "zE-_ZbWY1Niy"
      },
      "outputs": [],
      "source": [
        "# y_train.shape"
      ]
    },
    {
      "cell_type": "code",
      "execution_count": null,
      "metadata": {
        "id": "DS-DeCWD2t1l"
      },
      "outputs": [],
      "source": [
        "y_pred = np.mean(y_train)\n",
        "print(f'The mean prediction is {y_pred:.3f}')\n",
        "\n",
        "absolute_error_test_baseline = [np.abs(y_true - y_pred) for y_true in y_test]\n",
        "mean_absolute_error_test_baseline = np.mean(absolute_error_test_baseline)\n",
        "\n",
        "print(f'The benchmark mean absolute error is of {mean_absolute_error_test_baseline:.3f}')"
      ]
    },
    {
      "cell_type": "code",
      "execution_count": null,
      "metadata": {
        "id": "YiBxtKE92vpa"
      },
      "outputs": [],
      "source": [
        "from tensorflow.keras import Sequential, layers\n",
        "from tensorflow.keras.callbacks import EarlyStopping\n",
        "from tensorflow.keras import callbacks\n",
        "from tensorflow.keras import optimizers\n",
        "\n",
        "def initialize_model():\n",
        "\n",
        "    #################################\n",
        "    #  1 - Model architecture       #\n",
        "    #################################\n",
        "    \n",
        "    model = Sequential()\n",
        "    \n",
        "    # Input Layer\n",
        "    model.add(layers.Dense(64, activation='relu')) #, input_shape = X.shape[1:]))\n",
        "    \n",
        "    # Hidden Layers\n",
        "    model.add(layers.Dense(32, activation='relu'))\n",
        "    layers.Dropout(0.2)\n",
        "    model.add(layers.Dense(16, activation='relu'))\n",
        "    layers.Dropout(0.2)\n",
        "    model.add(layers.Dense(8, activation='relu'))\n",
        "\n",
        "    # Predictive Layer\n",
        "    model.add(layers.Dense(1, activation='linear')) #linear\n",
        "    \n",
        "    ##################################\n",
        "    #  2 - Our recommended compiler  #\n",
        "    ##################################\n",
        "    \n",
        "    adam_opt = optimizers.Adam(learning_rate=0.01, beta_1=0.9, beta_2=0.999) \n",
        "    model.compile(optimizer=adam_opt,\n",
        "                  loss='mse', \n",
        "                  metrics = ['mae'])      #metrics = ['accuracy']), usar em caso de softmax\n",
        "    \n",
        "    return model\n",
        "\n",
        "\n",
        "\n"
      ]
    },
    {
      "cell_type": "code",
      "execution_count": null,
      "metadata": {
        "id": "Mg5qiVd_DPDZ"
      },
      "outputs": [],
      "source": [
        "from pandas.core.missing import check_value_size\n",
        "from tensorflow.keras.wrappers.scikit_learn import KerasRegressor\n",
        "es = callbacks.EarlyStopping(patience=20, restore_best_weights=True)\n",
        "clf = KerasRegressor(initialize_model, nb_epoch=300, batch_size=16, verbose=0, callbacks=[es],validation_split=0.2)\n",
        "#estimators.append(('clf', Keras(build_fn=create_baseline, nb_epoch=300, batch_size=16, verbose=0, callbacks=[...your_callbacks...])))\n",
        "\n",
        "pipeline = make_pipeline(preprocessor,clf)\n",
        "pipeline"
      ]
    },
    {
      "cell_type": "code",
      "execution_count": null,
      "metadata": {
        "id": "dw8lR3vvEcDQ"
      },
      "outputs": [],
      "source": [
        "pipeline.fit(X_train,y_train)"
      ]
    },
    {
      "cell_type": "code",
      "execution_count": null,
      "metadata": {
        "id": "_e2PI44THmvB"
      },
      "outputs": [],
      "source": [
        "from sklearn.model_selection import cross_validate\n",
        "\n",
        "result = cross_validate(pipeline,X_test,y_test, scoring = ['neg_mean_absolute_error'])\n",
        "result"
      ]
    },
    {
      "cell_type": "code",
      "execution_count": null,
      "metadata": {
        "id": "BlSbF0SHd0k6"
      },
      "outputs": [],
      "source": [
        "oeuaoeua  "
      ]
    },
    {
      "cell_type": "markdown",
      "metadata": {
        "id": "Pmu_YCYbVjbV"
      },
      "source": [
        "#Stop here"
      ]
    },
    {
      "cell_type": "code",
      "execution_count": null,
      "metadata": {
        "id": "K4mVv_XxViDN"
      },
      "outputs": [],
      "source": []
    },
    {
      "cell_type": "code",
      "execution_count": null,
      "metadata": {
        "id": "BO_tnaj2E3lP"
      },
      "outputs": [],
      "source": [
        "history = pipeline.fit(X_train, \n",
        "                    y_train,\n",
        "                    validation_split =  0.2,\n",
        "                    epochs = epochs,         # Play with this until your validation loss overfit\n",
        "                    batch_size = batch_size, # Let's keep a small batch size for faster iterations\n",
        "                    callbacks = [es],\n",
        "                    verbose = 0)"
      ]
    },
    {
      "cell_type": "code",
      "execution_count": null,
      "metadata": {
        "id": "YS8LjsQa21Ym"
      },
      "outputs": [],
      "source": [
        "from tensorflow.keras.callbacks import EarlyStopping\n",
        "from tensorflow.keras import callbacks\n",
        "es = callbacks.EarlyStopping(patience=20, restore_best_weights=True)"
      ]
    },
    {
      "cell_type": "code",
      "execution_count": null,
      "metadata": {
        "id": "ra8e4keK22i1"
      },
      "outputs": [],
      "source": [
        "# 1. Initializing a NeuralNet with its architecture and its compilation method\n",
        "model = initialize_model(X_train)\n",
        "model.summary()"
      ]
    },
    {
      "cell_type": "code",
      "execution_count": null,
      "metadata": {
        "id": "fUbKgS__2416"
      },
      "outputs": [],
      "source": [
        "# 2. Training the model\n",
        "epochs = 500 #500 e0.2 overfitou\n",
        "batch_size = 16\n",
        "\n",
        "history = model.fit(train_t, \n",
        "                    y_train,\n",
        "                    validation_split =  0.2,\n",
        "                    epochs = epochs,         # Play with this until your validation loss overfit\n",
        "                    batch_size = batch_size, # Let's keep a small batch size for faster iterations\n",
        "                    callbacks = [es],\n",
        "                    verbose = 0)"
      ]
    },
    {
      "cell_type": "code",
      "execution_count": null,
      "metadata": {
        "id": "DUSwWHus2_ng"
      },
      "outputs": [],
      "source": [
        "# 3. Evaluating the model = mudar para modelo de classificação\n",
        "model.evaluate(test_t, y_test) #, modelo softmax"
      ]
    },
    {
      "cell_type": "code",
      "execution_count": null,
      "metadata": {
        "id": "5dXaz8qp3D0y"
      },
      "outputs": [],
      "source": [
        "def plot_history(history):\n",
        "    plt.plot(np.sqrt(history.history['loss']))\n",
        "    plt.plot(np.sqrt(history.history['val_loss']))\n",
        "    plt.title('Model Loss')\n",
        "    plt.ylabel('mae')\n",
        "    plt.xlabel('Epoch')\n",
        "    plt.legend(['Train', 'Val'], loc='best')\n",
        "    plt.show()"
      ]
    },
    {
      "cell_type": "code",
      "execution_count": null,
      "metadata": {
        "id": "waY0Qcp33F6O"
      },
      "outputs": [],
      "source": [
        "plot_history(history)"
      ]
    },
    {
      "cell_type": "code",
      "execution_count": null,
      "metadata": {
        "id": "nwWLbWSK3HNv"
      },
      "outputs": [],
      "source": [
        "#### Fazer predições\n",
        "predictions = model.predict(X_test_preproc)\n",
        "predictions"
      ]
    },
    {
      "cell_type": "code",
      "execution_count": null,
      "metadata": {
        "id": "DJsCPGOF3KjC"
      },
      "outputs": [],
      "source": [
        "# Salvar resultados\n",
        "# results.to_csv(\"submission_final.csv\", header = True, index = False)"
      ]
    }
  ],
  "metadata": {
    "accelerator": "GPU",
    "colab": {
      "provenance": []
    },
    "gpuClass": "standard",
    "kernelspec": {
      "display_name": "Python 3.8.12 64-bit ('shims')",
      "language": "python",
      "name": "python3"
    },
    "language_info": {
      "name": "python",
      "version": "3.8.12"
    },
    "vscode": {
      "interpreter": {
        "hash": "b0d6d9f2a0635488eb4878d0b8fe1bfff458b62025006913981db8fef152f062"
      }
    }
  },
  "nbformat": 4,
  "nbformat_minor": 0
}
