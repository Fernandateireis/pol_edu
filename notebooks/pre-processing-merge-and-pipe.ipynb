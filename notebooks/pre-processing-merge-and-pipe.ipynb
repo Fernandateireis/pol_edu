{
 "cells": [
  {
   "cell_type": "code",
   "execution_count": 52,
   "metadata": {},
   "outputs": [],
   "source": [
    "import pandas as pd"
   ]
  },
  {
   "cell_type": "code",
   "execution_count": 53,
   "metadata": {},
   "outputs": [
    {
     "name": "stdout",
     "output_type": "stream",
     "text": [
      "(1048567, 7)\n"
     ]
    }
   ],
   "source": [
    "# read data\n",
    "df = pd.read_csv('/home/freitas/Downloads/internet2/data/IEx_2014_2020.csv',sep=';')\n",
    "df.head()\n",
    "print(df.shape)"
   ]
  },
  {
   "cell_type": "code",
   "execution_count": 54,
   "metadata": {},
   "outputs": [
    {
     "data": {
      "text/plain": [
       "Index(['AN_EXERCICIO', 'ST_ATUALIZADA', 'IEX', 'CNPJ', 'CO_MUNICIPIO_IBGE',\n",
       "       'NO_MUNICIPIO', 'SG_UF'],\n",
       "      dtype='object')"
      ]
     },
     "execution_count": 54,
     "metadata": {},
     "output_type": "execute_result"
    }
   ],
   "source": [
    "df.columns"
   ]
  },
  {
   "cell_type": "code",
   "execution_count": 55,
   "metadata": {},
   "outputs": [
    {
     "name": "stdout",
     "output_type": "stream",
     "text": [
      "102008\n"
     ]
    }
   ],
   "source": [
    "print(len(df['CNPJ'].unique()))"
   ]
  },
  {
   "cell_type": "code",
   "execution_count": 56,
   "metadata": {},
   "outputs": [
    {
     "data": {
      "text/plain": [
       "AN_EXERCICIO          int64\n",
       "ST_ATUALIZADA         int64\n",
       "IEX                  object\n",
       "CNPJ                 object\n",
       "CO_MUNICIPIO_IBGE     int64\n",
       "NO_MUNICIPIO         object\n",
       "SG_UF                object\n",
       "dtype: object"
      ]
     },
     "execution_count": 56,
     "metadata": {},
     "output_type": "execute_result"
    }
   ],
   "source": [
    "df.dtypes"
   ]
  },
  {
   "cell_type": "code",
   "execution_count": 57,
   "metadata": {},
   "outputs": [
    {
     "name": "stderr",
     "output_type": "stream",
     "text": [
      "/tmp/ipykernel_10665/1759745971.py:2: FutureWarning: The default value of regex will change from True to False in a future version. In addition, single character regular expressions will *not* be treated as literal strings when regex=True.\n",
      "  df['CNPJ'] = df['CNPJ'].str.replace('.','')\n"
     ]
    }
   ],
   "source": [
    "# remove characters from CNPJ\n",
    "df['CNPJ'] = df['CNPJ'].str.replace('.','')\n",
    "df['CNPJ'] = df['CNPJ'].str.replace(',','')\n",
    "\n"
   ]
  },
  {
   "cell_type": "code",
   "execution_count": 59,
   "metadata": {},
   "outputs": [
    {
     "data": {
      "text/plain": [
       "AN_EXERCICIO          int64\n",
       "ST_ATUALIZADA         int64\n",
       "IEX                  object\n",
       "CNPJ                  int64\n",
       "CO_MUNICIPIO_IBGE     int64\n",
       "NO_MUNICIPIO         object\n",
       "SG_UF                object\n",
       "dtype: object"
      ]
     },
     "execution_count": 59,
     "metadata": {},
     "output_type": "execute_result"
    }
   ],
   "source": [
    "# convert CNPJ to float\n",
    "df['CNPJ'] = df['CNPJ'].astype(float)\n",
    "df['CNPJ'] = df['CNPJ'].astype(int)\n",
    "df.dtypes"
   ]
  },
  {
   "cell_type": "code",
   "execution_count": 60,
   "metadata": {},
   "outputs": [],
   "source": [
    "df = df.drop_duplicates()\n",
    "df.rename(columns={'AN_EXERCICIO':'ANO'}, inplace=True)\n"
   ]
  },
  {
   "cell_type": "code",
   "execution_count": 61,
   "metadata": {},
   "outputs": [
    {
     "data": {
      "text/html": [
       "<div>\n",
       "<style scoped>\n",
       "    .dataframe tbody tr th:only-of-type {\n",
       "        vertical-align: middle;\n",
       "    }\n",
       "\n",
       "    .dataframe tbody tr th {\n",
       "        vertical-align: top;\n",
       "    }\n",
       "\n",
       "    .dataframe thead th {\n",
       "        text-align: right;\n",
       "    }\n",
       "</style>\n",
       "<table border=\"1\" class=\"dataframe\">\n",
       "  <thead>\n",
       "    <tr style=\"text-align: right;\">\n",
       "      <th></th>\n",
       "      <th>ANO</th>\n",
       "      <th>CNPJ</th>\n",
       "      <th>IEX</th>\n",
       "    </tr>\n",
       "  </thead>\n",
       "  <tbody>\n",
       "    <tr>\n",
       "      <th>0</th>\n",
       "      <td>2014</td>\n",
       "      <td>403325000000000000</td>\n",
       "      <td>8,477606355</td>\n",
       "    </tr>\n",
       "    <tr>\n",
       "      <th>1</th>\n",
       "      <td>2014</td>\n",
       "      <td>404599000000000000</td>\n",
       "      <td>10</td>\n",
       "    </tr>\n",
       "    <tr>\n",
       "      <th>2</th>\n",
       "      <td>2014</td>\n",
       "      <td>450893000000000000</td>\n",
       "      <td>9,999990785</td>\n",
       "    </tr>\n",
       "    <tr>\n",
       "      <th>3</th>\n",
       "      <td>2014</td>\n",
       "      <td>401255000000000000</td>\n",
       "      <td>10</td>\n",
       "    </tr>\n",
       "    <tr>\n",
       "      <th>4</th>\n",
       "      <td>2014</td>\n",
       "      <td>400518000000000000</td>\n",
       "      <td>0</td>\n",
       "    </tr>\n",
       "  </tbody>\n",
       "</table>\n",
       "</div>"
      ],
      "text/plain": [
       "    ANO                CNPJ          IEX\n",
       "0  2014  403325000000000000  8,477606355\n",
       "1  2014  404599000000000000           10\n",
       "2  2014  450893000000000000  9,999990785\n",
       "3  2014  401255000000000000           10\n",
       "4  2014  400518000000000000            0"
      ]
     },
     "execution_count": 61,
     "metadata": {},
     "output_type": "execute_result"
    }
   ],
   "source": [
    "df = df[['ANO','CNPJ','IEX']]\n",
    "df.head()"
   ]
  },
  {
   "cell_type": "code",
   "execution_count": 64,
   "metadata": {},
   "outputs": [
    {
     "data": {
      "text/html": [
       "<div>\n",
       "<style scoped>\n",
       "    .dataframe tbody tr th:only-of-type {\n",
       "        vertical-align: middle;\n",
       "    }\n",
       "\n",
       "    .dataframe tbody tr th {\n",
       "        vertical-align: top;\n",
       "    }\n",
       "\n",
       "    .dataframe thead th {\n",
       "        text-align: right;\n",
       "    }\n",
       "</style>\n",
       "<table border=\"1\" class=\"dataframe\">\n",
       "  <thead>\n",
       "    <tr style=\"text-align: right;\">\n",
       "      <th></th>\n",
       "      <th>CO_ESCOLA</th>\n",
       "      <th>CNPJ</th>\n",
       "    </tr>\n",
       "  </thead>\n",
       "  <tbody>\n",
       "    <tr>\n",
       "      <th>0</th>\n",
       "      <td>41144287</td>\n",
       "      <td>80619661000139</td>\n",
       "    </tr>\n",
       "    <tr>\n",
       "      <th>1</th>\n",
       "      <td>41145518</td>\n",
       "      <td>81883621000162</td>\n",
       "    </tr>\n",
       "    <tr>\n",
       "      <th>2</th>\n",
       "      <td>41353242</td>\n",
       "      <td>80612815000160</td>\n",
       "    </tr>\n",
       "    <tr>\n",
       "      <th>3</th>\n",
       "      <td>41359232</td>\n",
       "      <td>1794067000108</td>\n",
       "    </tr>\n",
       "    <tr>\n",
       "      <th>4</th>\n",
       "      <td>41361261</td>\n",
       "      <td>1572770000171</td>\n",
       "    </tr>\n",
       "  </tbody>\n",
       "</table>\n",
       "</div>"
      ],
      "text/plain": [
       "   CO_ESCOLA            CNPJ\n",
       "0   41144287  80619661000139\n",
       "1   41145518  81883621000162\n",
       "2   41353242  80612815000160\n",
       "3   41359232   1794067000108\n",
       "4   41361261   1572770000171"
      ]
     },
     "execution_count": 64,
     "metadata": {},
     "output_type": "execute_result"
    }
   ],
   "source": [
    "escola = pd.read_csv('/home/freitas/Downloads/internet2/data/Chave_escolas_censo.csv')\n",
    "escola = escola[['CO_ESCOLA','NU_CGC_ENTIDADE']]\n",
    "escola.rename(columns={'NU_CGC_ENTIDADE':'CNPJ'},inplace=True)\n",
    "escola.head()"
   ]
  },
  {
   "cell_type": "code",
   "execution_count": 65,
   "metadata": {},
   "outputs": [
    {
     "data": {
      "text/html": [
       "<div>\n",
       "<style scoped>\n",
       "    .dataframe tbody tr th:only-of-type {\n",
       "        vertical-align: middle;\n",
       "    }\n",
       "\n",
       "    .dataframe tbody tr th {\n",
       "        vertical-align: top;\n",
       "    }\n",
       "\n",
       "    .dataframe thead th {\n",
       "        text-align: right;\n",
       "    }\n",
       "</style>\n",
       "<table border=\"1\" class=\"dataframe\">\n",
       "  <thead>\n",
       "    <tr style=\"text-align: right;\">\n",
       "      <th></th>\n",
       "      <th>ANO</th>\n",
       "      <th>CNPJ</th>\n",
       "      <th>IEX</th>\n",
       "      <th>CO_ESCOLA</th>\n",
       "    </tr>\n",
       "  </thead>\n",
       "  <tbody>\n",
       "    <tr>\n",
       "      <th>0</th>\n",
       "      <td>2014</td>\n",
       "      <td>403325000000000000</td>\n",
       "      <td>8,477606355</td>\n",
       "      <td>NaN</td>\n",
       "    </tr>\n",
       "    <tr>\n",
       "      <th>1</th>\n",
       "      <td>2014</td>\n",
       "      <td>404599000000000000</td>\n",
       "      <td>10</td>\n",
       "      <td>NaN</td>\n",
       "    </tr>\n",
       "    <tr>\n",
       "      <th>2</th>\n",
       "      <td>2014</td>\n",
       "      <td>450893000000000000</td>\n",
       "      <td>9,999990785</td>\n",
       "      <td>NaN</td>\n",
       "    </tr>\n",
       "    <tr>\n",
       "      <th>3</th>\n",
       "      <td>2014</td>\n",
       "      <td>401255000000000000</td>\n",
       "      <td>10</td>\n",
       "      <td>NaN</td>\n",
       "    </tr>\n",
       "    <tr>\n",
       "      <th>4</th>\n",
       "      <td>2014</td>\n",
       "      <td>400518000000000000</td>\n",
       "      <td>0</td>\n",
       "      <td>NaN</td>\n",
       "    </tr>\n",
       "    <tr>\n",
       "      <th>...</th>\n",
       "      <td>...</td>\n",
       "      <td>...</td>\n",
       "      <td>...</td>\n",
       "      <td>...</td>\n",
       "    </tr>\n",
       "    <tr>\n",
       "      <th>1005421</th>\n",
       "      <td>2021</td>\n",
       "      <td>751382000000000000</td>\n",
       "      <td>0</td>\n",
       "      <td>NaN</td>\n",
       "    </tr>\n",
       "    <tr>\n",
       "      <th>1005422</th>\n",
       "      <td>2021</td>\n",
       "      <td>750916000000000000</td>\n",
       "      <td>0</td>\n",
       "      <td>NaN</td>\n",
       "    </tr>\n",
       "    <tr>\n",
       "      <th>1005423</th>\n",
       "      <td>2021</td>\n",
       "      <td>562379000000000000</td>\n",
       "      <td>0</td>\n",
       "      <td>NaN</td>\n",
       "    </tr>\n",
       "    <tr>\n",
       "      <th>1005424</th>\n",
       "      <td>2021</td>\n",
       "      <td>750915000000000000</td>\n",
       "      <td>0</td>\n",
       "      <td>NaN</td>\n",
       "    </tr>\n",
       "    <tr>\n",
       "      <th>1005425</th>\n",
       "      <td>2021</td>\n",
       "      <td>750914000000000000</td>\n",
       "      <td>0</td>\n",
       "      <td>NaN</td>\n",
       "    </tr>\n",
       "  </tbody>\n",
       "</table>\n",
       "<p>1005426 rows × 4 columns</p>\n",
       "</div>"
      ],
      "text/plain": [
       "          ANO                CNPJ          IEX  CO_ESCOLA\n",
       "0        2014  403325000000000000  8,477606355        NaN\n",
       "1        2014  404599000000000000           10        NaN\n",
       "2        2014  450893000000000000  9,999990785        NaN\n",
       "3        2014  401255000000000000           10        NaN\n",
       "4        2014  400518000000000000            0        NaN\n",
       "...       ...                 ...          ...        ...\n",
       "1005421  2021  751382000000000000            0        NaN\n",
       "1005422  2021  750916000000000000            0        NaN\n",
       "1005423  2021  562379000000000000            0        NaN\n",
       "1005424  2021  750915000000000000            0        NaN\n",
       "1005425  2021  750914000000000000            0        NaN\n",
       "\n",
       "[1005426 rows x 4 columns]"
      ]
     },
     "execution_count": 65,
     "metadata": {},
     "output_type": "execute_result"
    }
   ],
   "source": [
    "merge_iex_escola = pd.merge(df, escola, on='CNPJ', how='left')\n",
    "merge_iex_escola"
   ]
  },
  {
   "cell_type": "code",
   "execution_count": 66,
   "metadata": {},
   "outputs": [
    {
     "data": {
      "text/plain": [
       "ANO                0\n",
       "CNPJ               0\n",
       "IEX                0\n",
       "CO_ESCOLA    1004837\n",
       "dtype: int64"
      ]
     },
     "execution_count": 66,
     "metadata": {},
     "output_type": "execute_result"
    }
   ],
   "source": [
    "merge_iex_escola.isna().sum()"
   ]
  },
  {
   "cell_type": "code",
   "execution_count": null,
   "metadata": {},
   "outputs": [
    {
     "data": {
      "text/html": [
       "<div>\n",
       "<style scoped>\n",
       "    .dataframe tbody tr th:only-of-type {\n",
       "        vertical-align: middle;\n",
       "    }\n",
       "\n",
       "    .dataframe tbody tr th {\n",
       "        vertical-align: top;\n",
       "    }\n",
       "\n",
       "    .dataframe thead th {\n",
       "        text-align: right;\n",
       "    }\n",
       "</style>\n",
       "<table border=\"1\" class=\"dataframe\">\n",
       "  <thead>\n",
       "    <tr style=\"text-align: right;\">\n",
       "      <th></th>\n",
       "      <th>NU_ANO_CENSO</th>\n",
       "      <th>SG_UF</th>\n",
       "      <th>CO_ENTIDADE</th>\n",
       "      <th>CO_MUNICIPIO</th>\n",
       "      <th>TP_SITUACAO_FUNCIONAMENTO</th>\n",
       "      <th>TP_DEPENDENCIA</th>\n",
       "      <th>TP_LOCALIZACAO</th>\n",
       "      <th>IN_LOCAL_FUNC_GALPAO</th>\n",
       "      <th>IN_PREDIO_COMPARTILHADO</th>\n",
       "      <th>IN_AGUA_REDE_PUBLICA</th>\n",
       "      <th>...</th>\n",
       "      <th>IN_QUADRA_ESPORTES</th>\n",
       "      <th>IN_SALA_DIRETORIA</th>\n",
       "      <th>IN_SECRETARIA</th>\n",
       "      <th>IN_COMPUTADOR</th>\n",
       "      <th>IN_EQUIP_COPIADORA</th>\n",
       "      <th>IN_EQUIP_IMPRESSORA</th>\n",
       "      <th>IN_INTERNET</th>\n",
       "      <th>IN_BANDA_LARGA</th>\n",
       "      <th>IN_REGULAR</th>\n",
       "      <th>IN_EJA</th>\n",
       "    </tr>\n",
       "  </thead>\n",
       "  <tbody>\n",
       "    <tr>\n",
       "      <th>0</th>\n",
       "      <td>2014</td>\n",
       "      <td>RO</td>\n",
       "      <td>11022558</td>\n",
       "      <td>1100015</td>\n",
       "      <td>1</td>\n",
       "      <td>2</td>\n",
       "      <td>2</td>\n",
       "      <td>0.0</td>\n",
       "      <td>0.0</td>\n",
       "      <td>0.0</td>\n",
       "      <td>...</td>\n",
       "      <td>0.0</td>\n",
       "      <td>0.0</td>\n",
       "      <td>0.0</td>\n",
       "      <td>0.0</td>\n",
       "      <td>0.0</td>\n",
       "      <td>0.0</td>\n",
       "      <td>0.0</td>\n",
       "      <td>0.0</td>\n",
       "      <td>1.0</td>\n",
       "      <td>0.0</td>\n",
       "    </tr>\n",
       "    <tr>\n",
       "      <th>1</th>\n",
       "      <td>2014</td>\n",
       "      <td>RO</td>\n",
       "      <td>11024275</td>\n",
       "      <td>1100015</td>\n",
       "      <td>1</td>\n",
       "      <td>2</td>\n",
       "      <td>1</td>\n",
       "      <td>0.0</td>\n",
       "      <td>0.0</td>\n",
       "      <td>1.0</td>\n",
       "      <td>...</td>\n",
       "      <td>1.0</td>\n",
       "      <td>1.0</td>\n",
       "      <td>1.0</td>\n",
       "      <td>1.0</td>\n",
       "      <td>1.0</td>\n",
       "      <td>1.0</td>\n",
       "      <td>1.0</td>\n",
       "      <td>1.0</td>\n",
       "      <td>0.0</td>\n",
       "      <td>1.0</td>\n",
       "    </tr>\n",
       "    <tr>\n",
       "      <th>2</th>\n",
       "      <td>2014</td>\n",
       "      <td>RO</td>\n",
       "      <td>11024291</td>\n",
       "      <td>1100015</td>\n",
       "      <td>1</td>\n",
       "      <td>3</td>\n",
       "      <td>2</td>\n",
       "      <td>0.0</td>\n",
       "      <td>0.0</td>\n",
       "      <td>0.0</td>\n",
       "      <td>...</td>\n",
       "      <td>0.0</td>\n",
       "      <td>0.0</td>\n",
       "      <td>0.0</td>\n",
       "      <td>0.0</td>\n",
       "      <td>0.0</td>\n",
       "      <td>0.0</td>\n",
       "      <td>0.0</td>\n",
       "      <td>0.0</td>\n",
       "      <td>1.0</td>\n",
       "      <td>0.0</td>\n",
       "    </tr>\n",
       "    <tr>\n",
       "      <th>3</th>\n",
       "      <td>2014</td>\n",
       "      <td>RO</td>\n",
       "      <td>11024372</td>\n",
       "      <td>1100015</td>\n",
       "      <td>1</td>\n",
       "      <td>3</td>\n",
       "      <td>2</td>\n",
       "      <td>0.0</td>\n",
       "      <td>1.0</td>\n",
       "      <td>0.0</td>\n",
       "      <td>...</td>\n",
       "      <td>1.0</td>\n",
       "      <td>1.0</td>\n",
       "      <td>0.0</td>\n",
       "      <td>0.0</td>\n",
       "      <td>0.0</td>\n",
       "      <td>1.0</td>\n",
       "      <td>0.0</td>\n",
       "      <td>0.0</td>\n",
       "      <td>1.0</td>\n",
       "      <td>0.0</td>\n",
       "    </tr>\n",
       "    <tr>\n",
       "      <th>4</th>\n",
       "      <td>2014</td>\n",
       "      <td>RO</td>\n",
       "      <td>11024593</td>\n",
       "      <td>1100015</td>\n",
       "      <td>1</td>\n",
       "      <td>3</td>\n",
       "      <td>2</td>\n",
       "      <td>0.0</td>\n",
       "      <td>1.0</td>\n",
       "      <td>0.0</td>\n",
       "      <td>...</td>\n",
       "      <td>1.0</td>\n",
       "      <td>0.0</td>\n",
       "      <td>0.0</td>\n",
       "      <td>1.0</td>\n",
       "      <td>1.0</td>\n",
       "      <td>1.0</td>\n",
       "      <td>0.0</td>\n",
       "      <td>NaN</td>\n",
       "      <td>1.0</td>\n",
       "      <td>0.0</td>\n",
       "    </tr>\n",
       "  </tbody>\n",
       "</table>\n",
       "<p>5 rows × 28 columns</p>\n",
       "</div>"
      ],
      "text/plain": [
       "   NU_ANO_CENSO SG_UF  CO_ENTIDADE  CO_MUNICIPIO  TP_SITUACAO_FUNCIONAMENTO  \\\n",
       "0          2014    RO     11022558       1100015                          1   \n",
       "1          2014    RO     11024275       1100015                          1   \n",
       "2          2014    RO     11024291       1100015                          1   \n",
       "3          2014    RO     11024372       1100015                          1   \n",
       "4          2014    RO     11024593       1100015                          1   \n",
       "\n",
       "   TP_DEPENDENCIA  TP_LOCALIZACAO  IN_LOCAL_FUNC_GALPAO  \\\n",
       "0               2               2                   0.0   \n",
       "1               2               1                   0.0   \n",
       "2               3               2                   0.0   \n",
       "3               3               2                   0.0   \n",
       "4               3               2                   0.0   \n",
       "\n",
       "   IN_PREDIO_COMPARTILHADO  IN_AGUA_REDE_PUBLICA  ...  IN_QUADRA_ESPORTES  \\\n",
       "0                      0.0                   0.0  ...                 0.0   \n",
       "1                      0.0                   1.0  ...                 1.0   \n",
       "2                      0.0                   0.0  ...                 0.0   \n",
       "3                      1.0                   0.0  ...                 1.0   \n",
       "4                      1.0                   0.0  ...                 1.0   \n",
       "\n",
       "   IN_SALA_DIRETORIA  IN_SECRETARIA  IN_COMPUTADOR  IN_EQUIP_COPIADORA  \\\n",
       "0                0.0            0.0            0.0                 0.0   \n",
       "1                1.0            1.0            1.0                 1.0   \n",
       "2                0.0            0.0            0.0                 0.0   \n",
       "3                1.0            0.0            0.0                 0.0   \n",
       "4                0.0            0.0            1.0                 1.0   \n",
       "\n",
       "   IN_EQUIP_IMPRESSORA  IN_INTERNET  IN_BANDA_LARGA  IN_REGULAR  IN_EJA  \n",
       "0                  0.0          0.0             0.0         1.0     0.0  \n",
       "1                  1.0          1.0             1.0         0.0     1.0  \n",
       "2                  0.0          0.0             0.0         1.0     0.0  \n",
       "3                  1.0          0.0             0.0         1.0     0.0  \n",
       "4                  1.0          0.0             NaN         1.0     0.0  \n",
       "\n",
       "[5 rows x 28 columns]"
      ]
     },
     "execution_count": 14,
     "metadata": {},
     "output_type": "execute_result"
    }
   ],
   "source": [
    "#df = pd.read_csv('/home/freitas/Downloads/internet2/data/censo_2014_2020.csv')\n",
    "#df.head()"
   ]
  }
 ],
 "metadata": {
  "kernelspec": {
   "display_name": "Python 3.8.12 64-bit ('shims')",
   "language": "python",
   "name": "python3"
  },
  "language_info": {
   "codemirror_mode": {
    "name": "ipython",
    "version": 3
   },
   "file_extension": ".py",
   "mimetype": "text/x-python",
   "name": "python",
   "nbconvert_exporter": "python",
   "pygments_lexer": "ipython3",
   "version": "3.8.12"
  },
  "orig_nbformat": 4,
  "vscode": {
   "interpreter": {
    "hash": "b0d6d9f2a0635488eb4878d0b8fe1bfff458b62025006913981db8fef152f062"
   }
  }
 },
 "nbformat": 4,
 "nbformat_minor": 2
}
