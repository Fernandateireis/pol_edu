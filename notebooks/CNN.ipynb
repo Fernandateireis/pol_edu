{
 "cells": [
  {
   "cell_type": "code",
   "execution_count": 2,
   "id": "90e1f25f",
   "metadata": {},
   "outputs": [],
   "source": [
    "%load_ext autoreload\n",
    "%autoreload 2\n",
    "\n",
    "# DATA MANIPULATION\n",
    "import pandas as pd\n",
    "import numpy as np\n",
    "pd.set_option('display.max_columns', None)\n",
    "import numpy as np\n",
    "\n",
    "# DATA VISUALISATION\n",
    "import matplotlib.pyplot as plt\n",
    "import seaborn as sns\n",
    "\n",
    "# VIEWING OPTIONS IN THE NOTEBOOK\n",
    "from sklearn import set_config; set_config(display='diagram')\n"
   ]
  },
  {
   "cell_type": "code",
   "execution_count": 3,
   "id": "1bcc3b23",
   "metadata": {},
   "outputs": [],
   "source": [
    "df = pd.read_csv(\"merge_iex_censo_banco.csv\")"
   ]
  },
  {
   "cell_type": "code",
   "execution_count": 4,
   "id": "35c78143",
   "metadata": {},
   "outputs": [],
   "source": [
    "data_mask= df['SG_UF']==\"SE\" \n",
    "data = df[data_mask]\n",
    "\n"
   ]
  },
  {
   "cell_type": "code",
   "execution_count": 5,
   "id": "4738c2fa",
   "metadata": {},
   "outputs": [],
   "source": [
    "data = data.drop(columns=['Unnamed: 0','CNPJ','CO_ESCOLA','CO_MUNICIPIO'])"
   ]
  },
  {
   "cell_type": "code",
   "execution_count": null,
   "id": "f4dea3f7",
   "metadata": {},
   "outputs": [],
   "source": [
    "###Retirar os missing -> inputar os valores no banda por banda por klm \n",
    "data.isnull().sum().sort_values(ascending=True)/len(data) #NaN percentage for each column"
   ]
  },
  {
   "cell_type": "code",
   "execution_count": 29,
   "id": "6e67f442",
   "metadata": {},
   "outputs": [
    {
     "data": {
      "text/plain": [
       "((15296, 27), (15296,))"
      ]
     },
     "execution_count": 29,
     "metadata": {},
     "output_type": "execute_result"
    }
   ],
   "source": [
    "X.shape, y.shape"
   ]
  },
  {
   "cell_type": "code",
   "execution_count": 6,
   "id": "80ec70a3",
   "metadata": {},
   "outputs": [],
   "source": [
    "from sklearn.model_selection import train_test_split\n",
    "y = data['IEX']\n",
    "X = data.drop(columns=['IEX','SG_UF'])\n",
    "X_train,X_test,y_train,y_test = train_test_split(X,y,test_size = 0.2,random_state = 42)"
   ]
  },
  {
   "cell_type": "code",
   "execution_count": 24,
   "id": "0e02fddd",
   "metadata": {},
   "outputs": [],
   "source": [
    "#we don't have any duplicates or missing values. Let's do the strict minimum of data preprocessing, _i.e._ ***scaling** and move on quickly to the modeling phase.\n",
    "from sklearn.preprocessing import StandardScaler\n",
    "\n",
    "scaler = StandardScaler()\n",
    "\n",
    "scaler.fit(X_train)\n",
    "\n",
    "X_train_scaled = scaler.transform(X_train)\n",
    "X_test_scaled = scaler.transform(X_test)"
   ]
  },
  {
   "cell_type": "code",
   "execution_count": 25,
   "id": "9018fd3b",
   "metadata": {},
   "outputs": [
    {
     "data": {
      "text/plain": [
       "array([[-1.1161496 ,  0.        , -1.87753773, ..., -0.59572537,\n",
       "         0.67666947,  0.37909539],\n",
       "       [ 0.72879556,  0.        , -1.87753773, ..., -0.59572537,\n",
       "         0.67666947, -0.01681398],\n",
       "       [ 0.72879556,  0.        ,  0.53261247, ...,  1.67862584,\n",
       "        -1.4778264 , -0.46622043],\n",
       "       ...,\n",
       "       [ 0.72879556,  0.        , -1.87753773, ...,  1.67862584,\n",
       "         0.67666947, -0.38074897],\n",
       "       [-1.57738589,  0.        ,  0.53261247, ..., -0.59572537,\n",
       "         0.67666947, -0.43903576],\n",
       "       [ 0.72879556,  0.        ,  0.53261247, ...,  1.67862584,\n",
       "         0.67666947,  2.87190969]])"
      ]
     },
     "execution_count": 25,
     "metadata": {},
     "output_type": "execute_result"
    }
   ],
   "source": [
    "X_train_scaled"
   ]
  },
  {
   "cell_type": "code",
   "execution_count": 80,
   "id": "c78011f3",
   "metadata": {},
   "outputs": [
    {
     "data": {
      "text/plain": [
       "array([[-1.1161496 ,  0.        ,  0.53261247, ..., -0.59572537,\n",
       "         0.67666947, -0.38388705],\n",
       "       [-1.1161496 ,  0.        , -1.87753773, ...,  1.67862584,\n",
       "        -1.4778264 , -0.47061787],\n",
       "       [ 0.72879556,  0.        ,  0.53261247, ..., -0.59572537,\n",
       "         0.67666947, -0.0636736 ],\n",
       "       ...,\n",
       "       [-1.57738589,  0.        ,  0.53261247, ..., -0.59572537,\n",
       "         0.67666947, -0.0769382 ],\n",
       "       [-1.1161496 ,  0.        ,  0.53261247, ..., -0.59572537,\n",
       "         0.67666947, -0.29069942],\n",
       "       [ 0.72879556,  0.        ,  0.53261247, ...,  1.67862584,\n",
       "         0.67666947, -0.41179947]])"
      ]
     },
     "execution_count": 80,
     "metadata": {},
     "output_type": "execute_result"
    }
   ],
   "source": [
    "X_test_scaled"
   ]
  },
  {
   "cell_type": "code",
   "execution_count": 32,
   "id": "799f2b08",
   "metadata": {},
   "outputs": [
    {
     "name": "stdout",
     "output_type": "stream",
     "text": [
      "The mean prediction is 5.608\n",
      "The benchmark mean absolute error is of 3.740\n"
     ]
    }
   ],
   "source": [
    "y_pred = np.mean(y_train)\n",
    "print(f'The mean prediction is {y_pred:.3f}')\n",
    "\n",
    "absolute_error_test_baseline = [np.abs(y_true - y_pred) for y_true in y_test]\n",
    "mean_absolute_error_test_baseline = np.mean(absolute_error_test_baseline)\n",
    "\n",
    "print(f'The benchmark mean absolute error is of {mean_absolute_error_test_baseline:.3f}')"
   ]
  },
  {
   "cell_type": "code",
   "execution_count": 52,
   "id": "9c720023",
   "metadata": {},
   "outputs": [],
   "source": [
    "from tensorflow.keras import Sequential, layers\n",
    "\n",
    "def initialize_model(X):\n",
    "\n",
    "    #################################\n",
    "    #  1 - Model architecture       #\n",
    "    #################################\n",
    "    \n",
    "    model = Sequential()\n",
    "    \n",
    "    # Input Layer\n",
    "    model.add(layers.Dense(20, activation='relu', input_dim = X.shape[-1]))\n",
    "    \n",
    "    # Hidden Layers\n",
    "    model.add(layers.Dense(15, activation='relu'))\n",
    "    model.add(layers.Dense(15, activation='relu'))\n",
    "    model.add(layers.Dense(20, activation='relu'))\n",
    "    \n",
    "    # Predictive Layer\n",
    "    model.add(layers.Dense(1, activation='linear'))\n",
    "    \n",
    "    ##################################\n",
    "    #  2 - Our recommended compiler  #\n",
    "    ##################################\n",
    "    \n",
    "    model.compile(optimizer='adam',\n",
    "                  loss='msle')      # directly optimize for the squared log error!\n",
    "    \n",
    "    return model\n"
   ]
  },
  {
   "cell_type": "code",
   "execution_count": 53,
   "id": "fca80fad",
   "metadata": {},
   "outputs": [],
   "source": [
    "from tensorflow.keras.callbacks import EarlyStopping\n",
    "from tensorflow.keras import callbacks\n",
    "es = callbacks.EarlyStopping(patience=20, restore_best_weights=True)"
   ]
  },
  {
   "cell_type": "code",
   "execution_count": 54,
   "id": "805dfcea",
   "metadata": {},
   "outputs": [
    {
     "name": "stdout",
     "output_type": "stream",
     "text": [
      "Model: \"sequential_3\"\n",
      "_________________________________________________________________\n",
      " Layer (type)                Output Shape              Param #   \n",
      "=================================================================\n",
      " dense_15 (Dense)            (None, 20)                560       \n",
      "                                                                 \n",
      " dense_16 (Dense)            (None, 15)                315       \n",
      "                                                                 \n",
      " dense_17 (Dense)            (None, 15)                240       \n",
      "                                                                 \n",
      " dense_18 (Dense)            (None, 20)                320       \n",
      "                                                                 \n",
      " dense_19 (Dense)            (None, 1)                 21        \n",
      "                                                                 \n",
      "=================================================================\n",
      "Total params: 1,456\n",
      "Trainable params: 1,456\n",
      "Non-trainable params: 0\n",
      "_________________________________________________________________\n"
     ]
    }
   ],
   "source": [
    "# 1. Initializing a NeuralNet with its architecture and its compilation method\n",
    "model = initialize_model(X_train)\n",
    "model.summary()"
   ]
  },
  {
   "cell_type": "code",
   "execution_count": 74,
   "id": "a1cda084",
   "metadata": {},
   "outputs": [],
   "source": [
    "# 2. Training the model\n",
    "epochs = 500 #500 tava bagunçado (poucos dados), overfitou em 100 \n",
    "batch_size = 16\n",
    "\n",
    "history = model.fit(X_train, \n",
    "                    y_train,\n",
    "                    validation_data = (X_test, y_test),\n",
    "                    epochs = epochs,         # Play with this until your validation loss overfit\n",
    "                    batch_size = batch_size, # Let's keep a small batch size for faster iterations\n",
    "                    callbacks = [es],\n",
    "                    verbose = 0)"
   ]
  },
  {
   "cell_type": "code",
   "execution_count": 75,
   "id": "b22c9870",
   "metadata": {},
   "outputs": [],
   "source": [
    "history = model.fit(X_train, \n",
    "                    y_train,\n",
    "                    validation_data = (X_test, y_test),\n",
    "                    epochs = epochs,         # Play with this until your validation loss overfit\n",
    "                    batch_size = batch_size, # Let's keep a small batch size for faster iterations\n",
    "                    callbacks = [es],\n",
    "                    verbose = 0)"
   ]
  },
  {
   "cell_type": "code",
   "execution_count": 76,
   "id": "cc061ac0",
   "metadata": {},
   "outputs": [
    {
     "name": "stdout",
     "output_type": "stream",
     "text": [
      "RMLSE achieved after 500 epochs = 1.823\n"
     ]
    }
   ],
   "source": [
    "# 3. Evaluating the model\n",
    "res = model.evaluate(X_train, y_train, verbose = 0)\n",
    "print(f\"RMLSE achieved after {epochs} epochs = {round(res**0.5,3)}\")"
   ]
  },
  {
   "cell_type": "code",
   "execution_count": 77,
   "id": "2575d20c",
   "metadata": {},
   "outputs": [
    {
     "name": "stdout",
     "output_type": "stream",
     "text": [
      "Lowest RMLSE achieved = 1.811\n",
      "This was achieved at the epoch number 0\n"
     ]
    }
   ],
   "source": [
    "# 4. Looking at the lowest loss\n",
    "minimium_rmlse_val = min(history.history['val_loss'])**0.5\n",
    "optimal_momentum = np.argmin(history.history['val_loss'])\n",
    "print(f\"Lowest RMLSE achieved = {round(minimium_rmlse_val,3)}\")\n",
    "print(f\"This was achieved at the epoch number {optimal_momentum}\") "
   ]
  },
  {
   "cell_type": "code",
   "execution_count": 78,
   "id": "edbe3478",
   "metadata": {},
   "outputs": [],
   "source": [
    "def plot_history(history):\n",
    "    plt.plot(np.sqrt(history.history['loss']))\n",
    "    plt.plot(np.sqrt(history.history['val_loss']))\n",
    "    plt.title('Model Loss')\n",
    "    plt.ylabel('RMSLE')\n",
    "    plt.xlabel('Epoch')\n",
    "    plt.legend(['Train', 'Val'], loc='best')\n",
    "    plt.show()"
   ]
  },
  {
   "cell_type": "code",
   "execution_count": 79,
   "id": "fa195e09",
   "metadata": {},
   "outputs": [
    {
     "data": {
      "image/png": "[encoded data removed]",
      "text/plain": [
       "<Figure size 432x288 with 1 Axes>"
      ]
     },
     "metadata": {
      "needs_background": "light"
     },
     "output_type": "display_data"
    }
   ],
   "source": [
    "plot_history(history)"
   ]
  },
  {
   "cell_type": "code",
   "execution_count": null,
   "id": "0bb9cfaa",
   "metadata": {},
   "outputs": [],
   "source": [
    "#### Fazer predições\n",
    "predictions = model.predict(X_test_preproc)\n",
    "predictions"
   ]
  },
  {
   "cell_type": "code",
   "execution_count": null,
   "id": "0f77c9da",
   "metadata": {},
   "outputs": [],
   "source": [
    "# results.to_csv(\"submission_final.csv\", header = True, index = False)\n"
   ]
  }
 ],
 "metadata": {
  "kernelspec": {
   "display_name": "Python 3.8.12 64-bit ('lewagon')",
   "language": "python",
   "name": "python3"
  },
  "language_info": {
   "codemirror_mode": {
    "name": "ipython",
    "version": 3
   },
   "file_extension": ".py",
   "mimetype": "text/x-python",
   "name": "python",
   "nbconvert_exporter": "python",
   "pygments_lexer": "ipython3",
   "version": "3.8.12"
  },
  "toc": {
   "base_numbering": 1,
   "nav_menu": {},
   "number_sections": true,
   "sideBar": true,
   "skip_h1_title": false,
   "title_cell": "Table of Contents",
   "title_sidebar": "Contents",
   "toc_cell": false,
   "toc_position": {},
   "toc_section_display": true,
   "toc_window_display": false
  },
  "vscode": {
   "interpreter": {
    "hash": "42b44726bdfbbd34563421ba7b9ee986825e3d264d13c44035a33becc5175445"
   }
  }
 },
 "nbformat": 4,
 "nbformat_minor": 5
}
